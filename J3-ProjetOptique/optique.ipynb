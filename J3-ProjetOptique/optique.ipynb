{
 "cells": [
  {
   "cell_type": "markdown",
   "metadata": {},
   "source": [
    "# Un aperçu sur l'utilisation de Python pour simuler des expériences de physique\n",
    "**Ahmed Ammar** (email: `ahmed.ammar@fst.utm.tn`), Institut Préparatoire aux Études Scientifiques et Techniques, Université de Carthage.\n",
    "\n",
    "Date: **17 mars 2020**\n",
    "\n",
    "Copyright 2021, Ahmed Ammar. Released under CC Attribution 4.0 license"
   ]
  },
  {
   "cell_type": "code",
   "execution_count": null,
   "metadata": {},
   "outputs": [],
   "source": [
    "%config InlineBackend.figure_format = 'png'"
   ]
  },
  {
   "cell_type": "markdown",
   "metadata": {},
   "source": [
    "## Exemple de simulation numérique: l'expérience des fentes de Young \n",
    "\n",
    "### Réalisation de l'expèrience"
   ]
  },
  {
   "cell_type": "code",
   "execution_count": null,
   "metadata": {
    "scrolled": true
   },
   "outputs": [],
   "source": [
    "from IPython.display import YouTubeVideo\n",
    "YouTubeVideo('nuaHY5lj2AA', start=79, width=600, height=300)"
   ]
  },
  {
   "cell_type": "markdown",
   "metadata": {},
   "source": [
    "### Observation\n",
    "\n",
    "* Énumérer les franges d'interférence à l'intérieur de la tache centrale de diffraction.\n",
    "* Mesurer la taille de la tache centrale de diffraction $\\Delta S$ et la taille d'une frange d'interférence $\\Delta s$.\n",
    "\n",
    "![](images/Image1.png)\n",
    "\n",
    "Que remarquez-vous lorsque vous modifiez la largeur et la distance entre les fentes?\n"
   ]
  },
  {
   "cell_type": "markdown",
   "metadata": {},
   "source": [
    "### Modélisation numérique\n",
    "\n",
    "![](images/model.png)\n",
    "\n",
    "#### Expression analytique\n",
    "\n",
    "\\begin{equation}\n",
    "\tI(x) = sinc^2 (Bx)[1+cos(2Ax)] \\quad avec: \\ A = \\pi a /\\lambda D \\ et \\ B = \\pi b / \\lambda D\n",
    "\\end{equation}\n",
    "\n",
    "$ b $ représente la largeur des fentes, $ a $ représente la distance entre les fentes, $ D $ est la distance de l'écran au plan des fentes et $ \\lambda $ est la longueur d'onde de la lumière incidente monochromatique.\n",
    "\n",
    "Les valeurs de $ \\Delta S $ et $ \\Delta s $ sont déterminées théoriquement à partir de $ b $ et $ a $:\n",
    "\\begin{equation}\n",
    "\\Delta S=2\\lambda D/b\t\\quad et \\quad \\Delta s=\\lambda D/a\n",
    "\\end{equation}"
   ]
  },
  {
   "cell_type": "markdown",
   "metadata": {},
   "source": [
    "### Simulation numérique avec Python"
   ]
  },
  {
   "cell_type": "markdown",
   "metadata": {},
   "source": [
    "## Exercice 1\n",
    "Pour x un poit sur un écran (**E**) de largeur $L$ égale à 30 cm, calculer et tracer le profil d'intensité $I(x)$ et claculer les largeurs de la tache centrale de diffraction et de l'interfrange.\n",
    "\n",
    "Compléter la fonction `Young(a, b, D)` par ce qui convient."
   ]
  },
  {
   "cell_type": "code",
   "execution_count": null,
   "metadata": {},
   "outputs": [],
   "source": [
    "import numpy as np\n",
    "import matplotlib.pyplot as plt\n",
    "\n",
    "def Young(a, b, D):\n",
    "    Lambda = 632e-9\n",
    "    L = 30e-2   # Largeur de l'ecran (m)\n",
    "    x = ????????????? # Àcompléter   \n",
    "    I = ????????????? # Àcompléter\n",
    "    plt.figure(figsize = (7, 4))\n",
    "    plt.plot(????????????) # Àcompléter\n",
    "    plt.xlabel(\"x [cm]\")\n",
    "    plt.ylabel(\"I/I0\")\n",
    "    plt.legend()\n",
    "    # Largeur ache centrale\n",
    "    DS = ???????????????  # Àcompléter\n",
    "    print(??????????????) # Àcompléter\n",
    "    # Largeur frange\n",
    "    Ds = ??????????????   # Àcompléter\n",
    "    print(??????????????) # Àcompléter\n",
    "    "
   ]
  },
  {
   "cell_type": "markdown",
   "metadata": {},
   "source": [
    "Pour des valeurs fixes de b = 0,15 mm et D = 10 m, utiliser la fonction ci-dessus pour rendre une figure d'interférance pour a$\\in\\{0.25; 0.5; 0.75; 1\\}$ mm."
   ]
  },
  {
   "cell_type": "markdown",
   "metadata": {},
   "source": [
    "* **Pour a = 0.25 mm**"
   ]
  },
  {
   "cell_type": "code",
   "execution_count": null,
   "metadata": {},
   "outputs": [],
   "source": []
  },
  {
   "cell_type": "markdown",
   "metadata": {},
   "source": [
    "* **Pour a = 0.5 mm**"
   ]
  },
  {
   "cell_type": "code",
   "execution_count": null,
   "metadata": {},
   "outputs": [],
   "source": []
  },
  {
   "cell_type": "markdown",
   "metadata": {},
   "source": [
    "* **Pour a = 0.75 mm**"
   ]
  },
  {
   "cell_type": "code",
   "execution_count": null,
   "metadata": {},
   "outputs": [],
   "source": []
  },
  {
   "cell_type": "markdown",
   "metadata": {},
   "source": [
    "* **Pour a = 1 mm**"
   ]
  },
  {
   "cell_type": "code",
   "execution_count": null,
   "metadata": {},
   "outputs": [],
   "source": []
  },
  {
   "cell_type": "markdown",
   "metadata": {},
   "source": [
    "### Ajout de l'interactivité pour notre simulation (IPython Widgets)"
   ]
  },
  {
   "cell_type": "code",
   "execution_count": null,
   "metadata": {},
   "outputs": [],
   "source": [
    "from ipywidgets import interactive, FloatSlider\n",
    "from IPython.display import display\n",
    "w = interactive(Young, \n",
    "              a = FloatSlider(min = 0.1, max = 1.2, value = 0.25,  step=0.01, description= \"a [mm]\"),\n",
    "              b = FloatSlider(min = 0.1, max = 1, value = 0.15,  step=0.01, description= \"b [mm]\"),\n",
    "              D = FloatSlider(min = 1,max = 20,step = 0.1, value = 15, description= \"D [m]\"))\n",
    "display(w)"
   ]
  },
  {
   "cell_type": "markdown",
   "metadata": {},
   "source": [
    "## Simulation à deux dimention: I(x, y)"
   ]
  },
  {
   "cell_type": "markdown",
   "metadata": {},
   "source": [
    "Mêmes qustions pour une figure d'interférence en 2D."
   ]
  },
  {
   "cell_type": "code",
   "execution_count": null,
   "metadata": {},
   "outputs": [],
   "source": [
    "def Young2D(a, b, D):\n",
    "    Lambda = 630e-9 \n",
    "    L = 30e-2   # Largeur de l'ecran\n",
    "    x = ????????????? # Àcompléter  \n",
    "    y = ????????????? # Àcompléter  \n",
    "    # Construction de la grille\n",
    "    X, Y = ????????????? # Àcompléter  \n",
    "    I = ????????????? # Àcompléter  \n",
    "    plt.figure(figsize=(5, 5))\n",
    "    plt.imshow(????????????) # Àcompléter\n",
    "    plt.colorbar(shrink = 0.8, aspect = 8)\n",
    "    # Largeur ache centrale\n",
    "    DS = ???????????????  # Àcompléter\n",
    "    print(??????????????) # Àcompléter\n",
    "    # Largeur frange\n",
    "    Ds = ??????????????   # Àcompléter\n",
    "    print(??????????????) # Àcompléter"
   ]
  },
  {
   "cell_type": "markdown",
   "metadata": {},
   "source": [
    "* **Pour a = 0.25 mm**"
   ]
  },
  {
   "cell_type": "code",
   "execution_count": null,
   "metadata": {},
   "outputs": [],
   "source": []
  },
  {
   "cell_type": "markdown",
   "metadata": {},
   "source": [
    "* **Pour a = 0.75 mm**"
   ]
  },
  {
   "cell_type": "code",
   "execution_count": null,
   "metadata": {},
   "outputs": [],
   "source": []
  },
  {
   "cell_type": "markdown",
   "metadata": {},
   "source": [
    "### Ajout de l'interactivité pour notre simulation (IPython Widgets)"
   ]
  },
  {
   "cell_type": "code",
   "execution_count": null,
   "metadata": {},
   "outputs": [],
   "source": [
    "w2=interactive(Young2D,\n",
    "               a = FloatSlider(min = 0.1, max = 1.2, value = 0.25,  step=0.01, description= \"a [mm]\"),\n",
    "               b = FloatSlider(min = 0.1, max = 1, value = 0.15,  step=0.01, description= \"b [mm]\"),\n",
    "               D = FloatSlider(min = 1,max = 20,step = 0.1, value = 15, description= \"D [m]\"))\n",
    "display(w2)"
   ]
  },
  {
   "cell_type": "markdown",
   "metadata": {},
   "source": [
    "## Exercice 2 : Diffraction par ouverture rectangulaire (2D)\n",
    "\n",
    "Considérons un faisceau de lumière monochromatique de longueur d'onde $\\lambda$ éclairant une ouverture rectangulaire située dans un plan $(xOy)$. La largeur de l'ouverture $b$ est dans la direction $x$ et sa hauteur $h$ est dans la direction $y$.\n",
    "\n",
    "![](images/fig1.png)\n",
    "\n",
    "L'intensité normalisée de lumière en un point $M$ situé sur un écran ($E$) et à une distance $D$ de la fente peut s'écrire comme suit :\n",
    "$$\n",
    "\\dfrac{I(x_{M}, y_{M})}{I_{0}} = \\text{sinc}^{2}\\left (B \\cdot x_{M} \\right)\\,\\text{sinc}^{2}  \\left ( H \\cdot y_{M} \\right )\n",
    "$$\n",
    "\n",
    "où $H = \\frac{\\pi h}{\\lambda D}$, $B = \\frac{\\pi b}{\\lambda D}$.\n",
    "\n",
    "\n",
    "* La largeur de la tache centrale dans la direction $x$ est inversement proportionnelle à la largeur de l'ouverture: $\\Delta x = \\frac{2 \\lambda D}{b}$;\n",
    "* La largeur de la tache centrale dans la direction $y$ est inversement proportionnelle à la hauteur de l'ouverture : $\\Delta y = \\frac{2 \\lambda D}{h}$.\n",
    "\n",
    "\n",
    "Écrire la fonction Python `DiffRect2D(b, h, D)` qui calcul $\\Delta x$ et $\\Delta y$ et affiche la figure de diffraction :\n",
    "```python\n",
    "In[1]: DiffRect(b= 2*1.E-5, h= 4*1.E-5, D= 2)\n",
    "La largeur de la tache centrale dans la direction x :  12.6\n",
    "La largeur de la tache centrale dans la direction y :  6.3\n",
    "```"
   ]
  },
  {
   "cell_type": "markdown",
   "metadata": {},
   "source": [
    "![](images/formule1.png)"
   ]
  },
  {
   "cell_type": "code",
   "execution_count": null,
   "metadata": {},
   "outputs": [],
   "source": []
  }
 ],
 "metadata": {
  "kernelspec": {
   "display_name": "Python 3",
   "language": "python",
   "name": "python3"
  },
  "language_info": {
   "codemirror_mode": {
    "name": "ipython",
    "version": 3
   },
   "file_extension": ".py",
   "mimetype": "text/x-python",
   "name": "python",
   "nbconvert_exporter": "python",
   "pygments_lexer": "ipython3",
   "version": "3.7.6"
  }
 },
 "nbformat": 4,
 "nbformat_minor": 2
}
